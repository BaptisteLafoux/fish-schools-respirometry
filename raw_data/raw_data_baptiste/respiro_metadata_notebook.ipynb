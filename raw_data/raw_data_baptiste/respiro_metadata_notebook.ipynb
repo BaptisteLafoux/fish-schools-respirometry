{
 "cells": [
  {
   "cell_type": "code",
   "execution_count": 3,
   "metadata": {},
   "outputs": [],
   "source": [
    "import pandas as pd \n",
    "import matplotlib.pyplot as plt \n",
    "from scipy.signal import savgol_filter\n",
    "import numpy as np\n",
    "\n",
    "from datetime import datetime\n",
    "from mpl_toolkits.axes_grid1 import make_axes_locatable\n",
    "from matplotlib.colors import LinearSegmentedColormap, ListedColormap\n",
    "\n",
    "import matplotlib as mpl \n",
    "import pint_xarray\n",
    "\n",
    "import xarray as xr \n",
    "import json \n",
    "import os \n",
    "\n",
    "from types import SimpleNamespace  \n",
    "\n",
    "from scipy.stats import linregress\n",
    "\n",
    "%matplotlib widget\n",
    "\n",
    "V = 48.6 #volume of the tank, in L \n",
    "max_speed = 8 #BL/s\n",
    "\n",
    "plt.close('all')\n",
    "\n",
    "from utils.metadata_generator import create_metadata_file"
   ]
  },
  {
   "cell_type": "markdown",
   "metadata": {},
   "source": [
    "# 220615"
   ]
  },
  {
   "cell_type": "markdown",
   "metadata": {},
   "source": [
    "## 3 fish - PM\n"
   ]
  },
  {
   "cell_type": "code",
   "execution_count": 4,
   "metadata": {},
   "outputs": [
    {
     "name": "stdout",
     "output_type": "stream",
     "text": [
      "\n",
      "*****************\n",
      "Saving a metadata file under : raw_data/20220615/3ss_1-6BL_15min_061522_180402_metadata.json\n",
      "\tDone\n",
      "*****************\n",
      "\n"
     ]
    }
   ],
   "source": [
    "t_exp = ['16:07:00', '16:22:00', '16:37:00', '16:52:00', '17:07:00', '17:22:00', '17:36:00']\n",
    "\n",
    "file = \"raw_data/20220615/3ss_1-6BL_15min_061522_180402.csv\"\n",
    "\n",
    "m_fish = [1.3, 1.7, 2.3]\n",
    "speeds = [1, 2, 3, 4, 5, 6]\n",
    "dt = 0.5\n",
    "\n",
    "create_metadata_file(file, t_exp, dt=dt, exp_duration=15*60, m_fish=m_fish, speeds=speeds)"
   ]
  },
  {
   "cell_type": "markdown",
   "metadata": {},
   "source": [
    "## 3 fish - AM"
   ]
  },
  {
   "cell_type": "code",
   "execution_count": 5,
   "metadata": {},
   "outputs": [
    {
     "name": "stdout",
     "output_type": "stream",
     "text": [
      "\n",
      "*****************\n",
      "Saving a metadata file under : raw_data/20220615/3ss_1-6BL_15min_061522_134313_metadata.json\n",
      "\tDone\n",
      "*****************\n",
      "\n"
     ]
    }
   ],
   "source": [
    "\n",
    "t_exp = ['11:41:00', '11:56:00', '12:11:00', '12:26:00', '12:41:00', '12:56:00', '13:10:00']\n",
    "\n",
    "file = \"raw_data/20220615/3ss_1-6BL_15min_061522_134313.csv\"\n",
    "\n",
    "m_fish = [1.8, 2.1, 1.6]\n",
    "speeds = [1, 2, 3, 4, 5, 6]\n",
    "dt = 0.5\n",
    "\n",
    "\n",
    "create_metadata_file(file, t_exp, dt=dt, exp_duration=15*60, m_fish=m_fish, speeds=speeds)"
   ]
  },
  {
   "cell_type": "markdown",
   "metadata": {},
   "source": [
    "# 220617"
   ]
  },
  {
   "cell_type": "markdown",
   "metadata": {},
   "source": [
    "## 7 fish - PM"
   ]
  },
  {
   "cell_type": "code",
   "execution_count": 6,
   "metadata": {},
   "outputs": [
    {
     "name": "stdout",
     "output_type": "stream",
     "text": [
      "\n",
      "*****************\n",
      "Saving a metadata file under : raw_data/20220617/7ss_1-6BL_15min_rest5min_061722_184651_metadata.json\n",
      "\tDone\n",
      "*****************\n",
      "\n"
     ]
    }
   ],
   "source": [
    "t_exp = ['16:44:00', '17:04:00', '17:24:00', '17:44:00', '18:06:00', '18:26:00', '18:46:00']\n",
    "\n",
    "file = \"raw_data/20220617/7ss_1-6BL_15min_rest5min_061722_184651.csv\"\n",
    "\n",
    "m_fish = [2.1, 1.9, 2.4, 2.3, 2.1, 2.0, 2.1]\n",
    "speeds = [1, 2, 3, 4, 5, 6]\n",
    "dt = 0.5\n",
    "\n",
    "create_metadata_file(file, t_exp, dt=dt, exp_duration=15*60, m_fish=m_fish, speeds=speeds)"
   ]
  },
  {
   "cell_type": "markdown",
   "metadata": {},
   "source": [
    "# 220620"
   ]
  },
  {
   "cell_type": "markdown",
   "metadata": {},
   "source": [
    "## 5 fish - PM 1 "
   ]
  },
  {
   "cell_type": "code",
   "execution_count": 7,
   "metadata": {},
   "outputs": [
    {
     "name": "stdout",
     "output_type": "stream",
     "text": [
      "\n",
      "*****************\n",
      "Saving a metadata file under : raw_data/20220620/5ss_1-7BL_15min_rest5min_062022_154419_metadata.json\n",
      "\tDone\n",
      "*****************\n",
      "\n"
     ]
    }
   ],
   "source": [
    "t_exp = ['13:00:00', '13:20:00', '13:45:00', '14:05:00', '14:25:00', '14:45:00', '15:05:00', '15:25:00']\n",
    "\n",
    "file = \"raw_data/20220620/5ss_1-7BL_15min_rest5min_062022_154419.csv\"\n",
    "\n",
    "m_fish = [2.2, 2, 2.1, 2.3, 2.7]\n",
    "speeds = [1, 2, 3, 4, 5, 6, 7]\n",
    "dt = 0.5\n",
    "\n",
    "create_metadata_file(file, t_exp, dt=dt, exp_duration=15*60, m_fish=m_fish, speeds=speeds)\n"
   ]
  },
  {
   "cell_type": "markdown",
   "metadata": {},
   "source": [
    "## 5 fish - PM 2"
   ]
  },
  {
   "cell_type": "code",
   "execution_count": 8,
   "metadata": {},
   "outputs": [
    {
     "name": "stdout",
     "output_type": "stream",
     "text": [
      "\n",
      "*****************\n",
      "Saving a metadata file under : raw_data/20220620/5ss_1-7BL_15min_rest5min_062022_192125_metadata.json\n",
      "\tDone\n",
      "*****************\n",
      "\n"
     ]
    }
   ],
   "source": [
    "t_exp = ['16:45:00', '17:05:00', '17:25:00',\n",
    "         '17:45:00', '18:05:00', '18:25:00', '18:45:00', '19:05:00']\n",
    "\n",
    "file = \"raw_data/20220620/5ss_1-7BL_15min_rest5min_062022_192125.csv\"\n",
    "\n",
    "m_fish = [2.1, 2.1, 2.4, 2.4, 2.2]\n",
    "speeds = [1, 2, 3, 4, 5, 6, 7]\n",
    "dt = 0.5\n",
    "\n",
    "create_metadata_file(file, t_exp, dt=dt, exp_duration=15*60, m_fish=m_fish, speeds=speeds)\n"
   ]
  },
  {
   "cell_type": "markdown",
   "metadata": {},
   "source": [
    "# 220621"
   ]
  },
  {
   "cell_type": "markdown",
   "metadata": {},
   "source": [
    "## 3 fish (invalid)"
   ]
  },
  {
   "cell_type": "code",
   "execution_count": 9,
   "metadata": {},
   "outputs": [
    {
     "name": "stdout",
     "output_type": "stream",
     "text": [
      "\n",
      "*****************\n",
      "Saving a metadata file under : raw_data/20220621/3ss_1-7BL_15min_rest5min_062122_163825_metadata.json\n",
      "\tDone\n",
      "*****************\n",
      "\n"
     ]
    }
   ],
   "source": [
    "t_exp = ['14:01:00', '14:21:00', '14:41:00',\n",
    "         '15:01:00', '15:21:00', '15:41:00', '16:01:00', '16:21:00']\n",
    "\n",
    "file = \"raw_data/20220621/3ss_1-7BL_15min_rest5min_062122_163825.csv\"\n",
    "\n",
    "m_fish = [2.1, 2.2, 2.2]\n",
    "speeds = [1, 2, 3, 4, 5, 6, 7]\n",
    "dt = 0.5\n",
    "\n",
    "create_metadata_file(file, t_exp, dt=dt, exp_duration=15 *\n",
    "                     60, m_fish=m_fish, speeds=speeds)\n"
   ]
  },
  {
   "cell_type": "markdown",
   "metadata": {},
   "source": [
    "# 220622"
   ]
  },
  {
   "cell_type": "markdown",
   "metadata": {},
   "source": [
    "## 9 fish"
   ]
  },
  {
   "cell_type": "code",
   "execution_count": 10,
   "metadata": {},
   "outputs": [
    {
     "name": "stdout",
     "output_type": "stream",
     "text": [
      "\n",
      "*****************\n",
      "Saving a metadata file under : raw_data/20220622/9ss - 062222 141258_metadata.json\n",
      "\tDone\n",
      "*****************\n",
      "\n"
     ]
    }
   ],
   "source": [
    "t_exp = ['11:00:00', '11:20:00', '11:40:00',\n",
    "         '12:00:00', '12:20:00', '12:40:00', '13:00:00', '13:19:00']\n",
    "\n",
    "file = \"raw_data/20220622/9ss - 062222 141258.csv\"\n",
    "\n",
    "m_fish = [2.2, 2.6, 2.4, 2.3, 2.3, 2.1, 2.2, 2.2, 2.4]\n",
    "speeds = [1, 2, 3, 4, 5, 6, 7]\n",
    "dt = 0.5\n",
    "\n",
    "create_metadata_file(file, t_exp, dt=dt, exp_duration=15 *\n",
    "                     60, m_fish=m_fish, speeds=speeds)\n"
   ]
  },
  {
   "cell_type": "markdown",
   "metadata": {},
   "source": [
    "## 9 fish"
   ]
  },
  {
   "cell_type": "code",
   "execution_count": 11,
   "metadata": {},
   "outputs": [
    {
     "name": "stdout",
     "output_type": "stream",
     "text": [
      "\n",
      "*****************\n",
      "Saving a metadata file under : raw_data/20220622/9ss - 062222 175340_metadata.json\n",
      "\tDone\n",
      "*****************\n",
      "\n"
     ]
    }
   ],
   "source": [
    "t_exp = ['15:33:00', '15:53:00', '16:13:00',\n",
    "         '16:33:00', '16:53:00', '17:13:00', '17:33:00', '17:50:00']\n",
    "\n",
    "file = \"raw_data/20220622/9ss - 062222 175340.csv\"\n",
    "\n",
    "m_fish = [2.3, 2.5, 2.1, 2.6, 2.2, 2.1, 1.9, 2.1, 2.4]\n",
    "speeds = [1, 2, 3, 4, 5, 6, 7]\n",
    "dt = 0.5\n",
    "\n",
    "create_metadata_file(file, t_exp, dt=dt, exp_duration=15 *\n",
    "                     60, m_fish=m_fish, speeds=speeds)\n"
   ]
  },
  {
   "cell_type": "markdown",
   "metadata": {},
   "source": [
    "# 230622"
   ]
  },
  {
   "cell_type": "markdown",
   "metadata": {},
   "source": [
    "## 7 fish"
   ]
  },
  {
   "cell_type": "code",
   "execution_count": 12,
   "metadata": {},
   "outputs": [
    {
     "name": "stdout",
     "output_type": "stream",
     "text": [
      "\n",
      "*****************\n",
      "Saving a metadata file under : raw_data/20220623/7ss - 062322 172329_metadata.json\n",
      "\tDone\n",
      "*****************\n",
      "\n"
     ]
    }
   ],
   "source": [
    "t_exp = ['15:02:00', '15:20:00', '15:40:00',\n",
    "         '16:00:00', '16:20:00', '16:40:00', '17:00:00', '17:20:00']\n",
    "\n",
    "file = \"raw_data/20220623/7ss - 062322 172329.csv\"\n",
    "\n",
    "m_fish = [2.0, 2.2, 2.0, 2.1, 2.2, 2.1, 2.4]\n",
    "speeds = [1, 2, 3, 4, 5, 6, 7]\n",
    "dt = 1\n",
    "\n",
    "create_metadata_file(file, t_exp, dt=dt, exp_duration=15*60, m_fish=m_fish, speeds=speeds)\n"
   ]
  },
  {
   "cell_type": "markdown",
   "metadata": {},
   "source": [
    "# 270622"
   ]
  },
  {
   "cell_type": "markdown",
   "metadata": {},
   "source": [
    "## 11 fish"
   ]
  },
  {
   "cell_type": "code",
   "execution_count": 13,
   "metadata": {},
   "outputs": [
    {
     "name": "stdout",
     "output_type": "stream",
     "text": [
      "\n",
      "*****************\n",
      "Saving a metadata file under : raw_data/20220627/11ss - 062722 165311_metadata.json\n",
      "\tDone\n",
      "*****************\n",
      "\n"
     ]
    }
   ],
   "source": [
    "t_exp = ['13:52:00', '14:16:00', '14:37:00',\n",
    "         '15:01:00', '15:23:00', '15:46:00', '16:08:00', '16:22:00']\n",
    "\n",
    "file = \"raw_data/20220627/11ss - 062722 165311.csv\"\n",
    "\n",
    "m_fish = [1.7, 1.5, 1.1, 2.1, 1.7, 1.8, 3.4, 1.9, 2.5, 1.8, 2.0]\n",
    "speeds = [1, 2, 3, 4, 5, 6, 7]\n",
    "dt = 1\n",
    "\n",
    "create_metadata_file(file, t_exp, dt=dt, exp_duration=15*60, m_fish=m_fish, speeds=speeds)\n",
    "\n"
   ]
  },
  {
   "cell_type": "markdown",
   "metadata": {},
   "source": [
    "# 240622"
   ]
  },
  {
   "cell_type": "markdown",
   "metadata": {},
   "source": [
    "## 1 fish "
   ]
  },
  {
   "cell_type": "code",
   "execution_count": 14,
   "metadata": {},
   "outputs": [
    {
     "name": "stdout",
     "output_type": "stream",
     "text": [
      "\n",
      "*****************\n",
      "Saving a metadata file under : raw_data/20220624/1ss - 062422 142609_metadata.json\n",
      "\tDone\n",
      "*****************\n",
      "\n"
     ]
    }
   ],
   "source": [
    "t_exp = ['11:30:00', '11:50:00', '12:10:00',\n",
    "         '12:30:00', '12:50:00', '13:10:00', '13:30:00', '13:50:00']\n",
    "\n",
    "file = \"raw_data/20220624/1ss - 062422 142609.csv\"\n",
    "\n",
    "m_fish = [1.9]\n",
    "speeds = [1, 2, 3, 4, 5, 6, 7]\n",
    "dt = 1\n",
    "\n",
    "create_metadata_file(file, t_exp, dt=dt, exp_duration=15 *\n",
    "                     60, m_fish=m_fish, speeds=speeds)\n"
   ]
  },
  {
   "cell_type": "markdown",
   "metadata": {},
   "source": [
    "## 1 fish"
   ]
  },
  {
   "cell_type": "code",
   "execution_count": 15,
   "metadata": {},
   "outputs": [
    {
     "name": "stdout",
     "output_type": "stream",
     "text": [
      "\n",
      "*****************\n",
      "Saving a metadata file under : raw_data/20220624/1ss - 062422 172421_metadata.json\n",
      "\tDone\n",
      "*****************\n",
      "\n"
     ]
    }
   ],
   "source": [
    "t_exp = ['15:00:00', '15:20:00', '15:40:00',\n",
    "         '16:00:00', '16:20:00', '16:40:00', '17:00:00', '17:20:00']\n",
    "\n",
    "file = \"raw_data/20220624/1ss - 062422 172421.csv\"\n",
    "\n",
    "m_fish = [2.3]\n",
    "speeds = [1, 2, 3, 4, 5, 6, 7]\n",
    "dt = 1\n",
    "\n",
    "create_metadata_file(file, t_exp, dt=dt, exp_duration=15 *\n",
    "                     60, m_fish=m_fish, speeds=speeds)\n"
   ]
  },
  {
   "cell_type": "markdown",
   "metadata": {},
   "source": [
    "# 220705\n",
    "\n",
    "## 2 fish"
   ]
  },
  {
   "cell_type": "code",
   "execution_count": 16,
   "metadata": {},
   "outputs": [
    {
     "name": "stdout",
     "output_type": "stream",
     "text": [
      "\n",
      "*****************\n",
      "Saving a metadata file under : raw_data/20220705/2ss - 070522 155520_metadata.json\n",
      "\tDone\n",
      "*****************\n",
      "\n"
     ]
    }
   ],
   "source": [
    "t_exp = ['12:48:00', '13:10:00', '13:32:00',\n",
    "         '13:54:00', '14:17:00', '14:38:00', '15:00:00', '15:21:00']\n",
    "\n",
    "file = \"raw_data/20220705/2ss - 070522 155520.csv\"\n",
    "\n",
    "m_fish = [2.6, 1.3]\n",
    "speeds = [1, 2, 3, 4, 5, 6, 7]\n",
    "dt = 1\n",
    "\n",
    "create_metadata_file(file, t_exp, dt=dt, exp_duration=15 *\n",
    "                     60, m_fish=m_fish, speeds=speeds)\n"
   ]
  },
  {
   "cell_type": "markdown",
   "metadata": {},
   "source": [
    "# 220706\n",
    "\n",
    "## 11 fish"
   ]
  },
  {
   "cell_type": "code",
   "execution_count": 17,
   "metadata": {},
   "outputs": [
    {
     "name": "stdout",
     "output_type": "stream",
     "text": [
      "\n",
      "*****************\n",
      "Saving a metadata file under : raw_data/20220706/11ss - 070622 120242_metadata.json\n",
      "\tDone\n",
      "*****************\n",
      "\n"
     ]
    }
   ],
   "source": [
    "t_exp = ['09:38:00', '09:59:00', '10:21:00',\n",
    "         '10:44:00', '11:25:00', '11:47:00', '11:58:00']\n",
    "\n",
    "file = \"raw_data/20220706/11ss - 070622 120242.csv\"\n",
    "\n",
    "m_fish = [1.3, 2.0, 2.5, 1.4, 2.8, 1.6, 1.4, 1.7, 1.6, 2.6, 1.5]\n",
    "speeds = [1, 2, 3, 4, 5, 6]\n",
    "dt = 1\n",
    "\n",
    "create_metadata_file(file, t_exp, dt=dt, exp_duration=11 *\n",
    "                     60, m_fish=m_fish, speeds=speeds)\n",
    "\n"
   ]
  },
  {
   "cell_type": "markdown",
   "metadata": {},
   "source": [
    "## 9 fish"
   ]
  },
  {
   "cell_type": "code",
   "execution_count": 18,
   "metadata": {},
   "outputs": [
    {
     "name": "stdout",
     "output_type": "stream",
     "text": [
      "\n",
      "*****************\n",
      "Saving a metadata file under : raw_data/20220706/9ss - 070622 161318_metadata.json\n",
      "\tDone\n",
      "*****************\n",
      "\n"
     ]
    }
   ],
   "source": [
    "t_exp = ['13:36:00', '13:57:00', '14:18:00',\n",
    "         '14:40:00', '15:00:00', '15:20:00', '15:41:00', '15:56:00']\n",
    "\n",
    "file = \"raw_data/20220706/9ss - 070622 161318.csv\"\n",
    "\n",
    "m_fish = [2.3, 2.5, 1.8, 1.6, 3.3, 1.7, 2.2, 1.2, 1.4]\n",
    "speeds = [1, 2, 3, 4, 5, 6, 7]\n",
    "dt = 1\n",
    "\n",
    "create_metadata_file(file, t_exp, dt=dt, exp_duration=15 *\n",
    "                     60, m_fish=m_fish, speeds=speeds)\n",
    "\n",
    "                     \n"
   ]
  },
  {
   "cell_type": "markdown",
   "metadata": {},
   "source": [
    "## 1 fish "
   ]
  },
  {
   "cell_type": "code",
   "execution_count": 19,
   "metadata": {},
   "outputs": [
    {
     "name": "stdout",
     "output_type": "stream",
     "text": [
      "\n",
      "*****************\n",
      "Saving a metadata file under : raw_data/20220706/1ss - 070622 193832_metadata.json\n",
      "\tDone\n",
      "*****************\n",
      "\n"
     ]
    }
   ],
   "source": [
    "t_exp = ['17:12:00', '17:34:00', '17:56:00',\n",
    "         '18:16:00', '18:38:00', '18:58:00', '19:18:00', '19:33:00']\n",
    "\n",
    "file = \"raw_data/20220706/1ss - 070622 193832.csv\"\n",
    "\n",
    "m_fish = [2.0]\n",
    "speeds = [1, 2, 3, 4, 5, 6, 7]\n",
    "dt = 1\n",
    "\n",
    "create_metadata_file(file, t_exp, dt=dt, exp_duration=15 *\n",
    "                     60, m_fish=m_fish, speeds=speeds)\n"
   ]
  },
  {
   "cell_type": "markdown",
   "metadata": {},
   "source": [
    "# 220708"
   ]
  },
  {
   "cell_type": "markdown",
   "metadata": {},
   "source": [
    "## 2 fish"
   ]
  },
  {
   "cell_type": "code",
   "execution_count": 20,
   "metadata": {},
   "outputs": [
    {
     "name": "stdout",
     "output_type": "stream",
     "text": [
      "\n",
      "*****************\n",
      "Saving a metadata file under : raw_data/20220708/2ss - 070822 171200_metadata.json\n",
      "\tDone\n",
      "*****************\n",
      "\n"
     ]
    }
   ],
   "source": [
    "t_exp = ['14:52:00', '15:12:00', '15:32:00',\n",
    "         '15:52:00', '16:12:00', '16:32:00', '16:57:00', '17:12:00']\n",
    "\n",
    "file = \"raw_data/20220708/2ss - 070822 171200.csv\"\n",
    "\n",
    "m_fish = [2.0, 1.6]\n",
    "speeds = [1, 2, 3, 4, 5, 6, 7]\n",
    "dt = 1\n",
    "\n",
    "create_metadata_file(file, t_exp, dt=dt, exp_duration=15 *\n",
    "                     60, m_fish=m_fish, speeds=speeds)\n"
   ]
  },
  {
   "cell_type": "markdown",
   "metadata": {},
   "source": [
    "## 2 fish (invalid)"
   ]
  },
  {
   "cell_type": "code",
   "execution_count": 21,
   "metadata": {},
   "outputs": [
    {
     "name": "stdout",
     "output_type": "stream",
     "text": [
      "\n",
      "*****************\n",
      "Saving a metadata file under : raw_data/20220708/2ss - 070822 204400_metadata.json\n",
      "\tDone\n",
      "*****************\n",
      "\n"
     ]
    }
   ],
   "source": [
    "t_exp = ['18:21:00', '18:48:00', '19:10:00',\n",
    "         '19:30:00', '19:50:00', '20:10:00', '20:35:00']\n",
    "\n",
    "file = \"raw_data/20220708/2ss - 070822 204400.csv\"\n",
    "\n",
    "m_fish = [1.8, 1.6]\n",
    "speeds = [1, 2, 3, 4, 5, 6]\n",
    "dt = 1\n",
    "\n",
    "create_metadata_file(file, t_exp, dt=dt, exp_duration=15 *\n",
    "                     60, m_fish=m_fish, speeds=speeds)\n"
   ]
  },
  {
   "cell_type": "markdown",
   "metadata": {},
   "source": [
    "# 220709"
   ]
  },
  {
   "cell_type": "markdown",
   "metadata": {},
   "source": [
    "## 4 fish"
   ]
  },
  {
   "cell_type": "code",
   "execution_count": 22,
   "metadata": {},
   "outputs": [
    {
     "name": "stdout",
     "output_type": "stream",
     "text": [
      "\n",
      "*****************\n",
      "Saving a metadata file under : raw_data/20220709/4ss - 070922 130800_metadata.json\n",
      "\tDone\n",
      "*****************\n",
      "\n"
     ]
    }
   ],
   "source": [
    "t_exp = ['11:41:00', '12:01:00', '12:21:00',\n",
    "         '12:41:00', '13:01:00']\n",
    "\n",
    "file = \"raw_data/20220709/4ss - 070922 130800.csv\"\n",
    "\n",
    "m_fish = [1.5, 1.2, 1.7, 1.4]\n",
    "speeds = [1, 2, 3, 4]\n",
    "dt = 1\n",
    "\n",
    "create_metadata_file(file, t_exp, dt=dt, exp_duration=15 *\n",
    "                     60, m_fish=m_fish, speeds=speeds)\n"
   ]
  },
  {
   "cell_type": "markdown",
   "metadata": {},
   "source": [
    "# 220711"
   ]
  },
  {
   "cell_type": "markdown",
   "metadata": {},
   "source": [
    "## 5 fish"
   ]
  },
  {
   "cell_type": "code",
   "execution_count": 23,
   "metadata": {},
   "outputs": [
    {
     "name": "stdout",
     "output_type": "stream",
     "text": [
      "\n",
      "*****************\n",
      "Saving a metadata file under : raw_data/20220711/5ss - 071122 171535_metadata.json\n",
      "\tDone\n",
      "*****************\n",
      "\n"
     ]
    }
   ],
   "source": [
    "t_exp = ['14:45:00', '15:05:00', '15:30:00',\n",
    "         '15:50:00', '16:10:00', '16:30:00', '16:55:00', '17:10:00']\n",
    "\n",
    "file = \"raw_data/20220711/5ss - 071122 171535.csv\"\n",
    "\n",
    "m_fish = [1.5, 1.8, 1.7, 1.7, 2.3]\n",
    "speeds = [1, 2, 3, 4, 5, 6, 7]\n",
    "dt = 1\n",
    "\n",
    "create_metadata_file(file, t_exp, dt=dt, exp_duration=15 *\n",
    "                     60, m_fish=m_fish, speeds=speeds)\n"
   ]
  },
  {
   "cell_type": "markdown",
   "metadata": {},
   "source": [
    "## 7 fish"
   ]
  },
  {
   "cell_type": "code",
   "execution_count": 24,
   "metadata": {},
   "outputs": [
    {
     "name": "stdout",
     "output_type": "stream",
     "text": [
      "\n",
      "*****************\n",
      "Saving a metadata file under : raw_data/20220711/7ss - 071122 134000_metadata.json\n",
      "\tDone\n",
      "*****************\n",
      "\n"
     ]
    }
   ],
   "source": [
    "t_exp = ['11:15:00', '11:35:00', '12:00:00',\n",
    "         '12:20:00', '12:45:20', '13:05:00', '13:25:00', '13:40:00']\n",
    "\n",
    "file = \"raw_data/20220711/7ss - 071122 134000.csv\"\n",
    "\n",
    "m_fish = [1.3, 2.0, 1.6, 1.7, 1.8, 1.4, 2.0]\n",
    "speeds = [1, 2, 3, 4, 5, 6, 7]\n",
    "dt = 1\n",
    "\n",
    "create_metadata_file(file, t_exp, dt=dt, exp_duration=15 *\n",
    "                     60, m_fish=m_fish, speeds=speeds)"
   ]
  },
  {
   "cell_type": "markdown",
   "metadata": {},
   "source": [
    "# 220712"
   ]
  },
  {
   "cell_type": "markdown",
   "metadata": {},
   "source": [
    "## 4 fish"
   ]
  },
  {
   "cell_type": "code",
   "execution_count": 25,
   "metadata": {},
   "outputs": [
    {
     "name": "stdout",
     "output_type": "stream",
     "text": [
      "\n",
      "*****************\n",
      "Saving a metadata file under : raw_data/20220712/4ss - 071222 131211_metadata.json\n",
      "\tDone\n",
      "*****************\n",
      "\n"
     ]
    }
   ],
   "source": [
    "t_exp = ['10:20:32', '10:43:48', '11:05:24',\n",
    "         '11:26:55', '11:56:01', '12:18:07', '12:40:20', '12:55:00']\n",
    "\n",
    "file = \"raw_data/20220712/4ss - 071222 131211.csv\"\n",
    "\n",
    "m_fish = [2.3, 1.5, 3.0, 1.6]\n",
    "speeds = [1, 2, 3, 4, 5, 6, 7]\n",
    "dt = 1\n",
    "\n",
    "create_metadata_file(file, t_exp, dt=dt, exp_duration=15 *\n",
    "                     60, m_fish=m_fish, speeds=speeds)"
   ]
  },
  {
   "cell_type": "markdown",
   "metadata": {},
   "source": [
    "## 4 fish"
   ]
  },
  {
   "cell_type": "code",
   "execution_count": 26,
   "metadata": {},
   "outputs": [
    {
     "name": "stdout",
     "output_type": "stream",
     "text": [
      "\n",
      "*****************\n",
      "Saving a metadata file under : raw_data/20220712/4ss - 071222 165035_metadata.json\n",
      "\tDone\n",
      "*****************\n",
      "\n"
     ]
    }
   ],
   "source": [
    "t_exp = ['14:00:44', '14:22:10', '14:44:04',\n",
    "         '15:05:47', '15:27:38', '15:49:25', '16:12:08', '16:27:08']\n",
    "\n",
    "file = \"raw_data/20220712/4ss - 071222 165035.csv\"\n",
    "\n",
    "m_fish = [1.5, 1.7, 1.5, 1.3]\n",
    "speeds = [1, 2, 3, 4, 5, 6, 7]\n",
    "dt = 1\n",
    "\n",
    "create_metadata_file(file, t_exp, dt=dt, exp_duration=15 *\n",
    "                     60, m_fish=m_fish, speeds=speeds)\n"
   ]
  },
  {
   "cell_type": "markdown",
   "metadata": {},
   "source": [
    "# Calibration - 0 fish\n",
    "\n",
    "## 220623"
   ]
  },
  {
   "cell_type": "code",
   "execution_count": 27,
   "metadata": {},
   "outputs": [
    {
     "name": "stdout",
     "output_type": "stream",
     "text": [
      "\n",
      "*****************\n",
      "Saving a metadata file under : raw_data/calibration/0ss - 062322 123045_metadata.json\n",
      "\tDone\n",
      "*****************\n",
      "\n"
     ]
    }
   ],
   "source": [
    "t_exp = ['11:20:00', '11:30:00', '11:40:00',\n",
    "         '11:50:00', '12:00:00', '12:10:00', '12:20:00', '12:30:00']\n",
    "\n",
    "file = \"raw_data/calibration/0ss - 062322 123045.csv\"\n",
    "\n",
    "speeds = [1, 2, 3, 4, 5, 6, 7]\n",
    "dt = 1\n",
    "\n",
    "##### ATTENTION : exp duration 10 min \n",
    "create_metadata_file(file, t_exp, dt=dt, exp_duration=10*60, speeds=speeds, m_fish=0)"
   ]
  },
  {
   "cell_type": "markdown",
   "metadata": {},
   "source": [
    "## 220709 - 1"
   ]
  },
  {
   "cell_type": "code",
   "execution_count": 28,
   "metadata": {},
   "outputs": [
    {
     "name": "stdout",
     "output_type": "stream",
     "text": [
      "\n",
      "*****************\n",
      "Saving a metadata file under : raw_data/calibration/0ss - 070922 154500_metadata.json\n",
      "\tDone\n",
      "*****************\n",
      "\n"
     ]
    }
   ],
   "source": [
    "t_exp = ['13:30:00', '13:50:00', '14:10:00',\n",
    "         '14:30:00', '14:50:00', '15:10:00', '15:30:00', '15:45:00']\n",
    "\n",
    "file = \"raw_data/calibration/0ss - 070922 154500.csv\"\n",
    "\n",
    "speeds = [1, 2, 3, 4, 5, 6, 7]\n",
    "dt = 1\n",
    "\n",
    "create_metadata_file(file, t_exp, dt=dt, exp_duration=15 *\n",
    "                     60, speeds=speeds, m_fish=0)\n"
   ]
  },
  {
   "cell_type": "markdown",
   "metadata": {},
   "source": [
    "## 220709 - 2"
   ]
  },
  {
   "cell_type": "code",
   "execution_count": 29,
   "metadata": {},
   "outputs": [
    {
     "name": "stdout",
     "output_type": "stream",
     "text": [
      "\n",
      "*****************\n",
      "Saving a metadata file under : raw_data/calibration/0ss - 070922 171000_metadata.json\n",
      "\tDone\n",
      "*****************\n",
      "\n"
     ]
    }
   ],
   "source": [
    "t_exp = ['14:50:00', '15:10:00', '15:30:00',\n",
    "         '15:50:00', '16:10:00', '16:30:00', '16:50:00', '17:05:00']\n",
    "\n",
    "file = \"raw_data/calibration/0ss - 070922 171000.csv\"\n",
    "\n",
    "speeds = [1, 2, 3, 4, 5, 6, 7]\n",
    "dt = 1\n",
    "\n",
    "create_metadata_file(file, t_exp, dt=dt, exp_duration=15 *\n",
    "                     60, speeds=speeds, m_fish=0)\n"
   ]
  }
 ],
 "metadata": {
  "kernelspec": {
   "display_name": "Python 3.8.13 ('base')",
   "language": "python",
   "name": "python3"
  },
  "language_info": {
   "codemirror_mode": {
    "name": "ipython",
    "version": 3
   },
   "file_extension": ".py",
   "mimetype": "text/x-python",
   "name": "python",
   "nbconvert_exporter": "python",
   "pygments_lexer": "ipython3",
   "version": "3.8.13"
  },
  "orig_nbformat": 4,
  "vscode": {
   "interpreter": {
    "hash": "d5afdb868c841c185d1fb9b4dca35c6504ff32d7e8e57d6647baa696281ce6c2"
   }
  }
 },
 "nbformat": 4,
 "nbformat_minor": 2
}
