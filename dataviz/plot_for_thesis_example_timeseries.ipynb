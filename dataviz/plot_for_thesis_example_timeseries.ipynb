{
 "cells": [
  {
   "cell_type": "code",
   "execution_count": 1,
   "metadata": {},
   "outputs": [],
   "source": [
    "import pandas as pd\n",
    "import matplotlib.pyplot as plt \n",
    "%matplotlib widget\n",
    "\n",
    "import numpy as np \n",
    "import config"
   ]
  },
  {
   "cell_type": "code",
   "execution_count": 2,
   "metadata": {},
   "outputs": [
    {
     "data": {
      "text/plain": [
       "15.0"
      ]
     },
     "execution_count": 2,
     "metadata": {},
     "output_type": "execute_result"
    }
   ],
   "source": [
    "file = '../raw_data/20220627/11ss - 062722 165311.csv'\n",
    "\n",
    "data = pd.read_csv(file, sep=';')\n",
    "data = data[675:]\n",
    "\n",
    "900/60"
   ]
  },
  {
   "cell_type": "code",
   "execution_count": 3,
   "metadata": {},
   "outputs": [
    {
     "data": {
      "application/vnd.jupyter.widget-view+json": {
       "model_id": "f3fa6883532a4ef1b1eaf933318def19",
       "version_major": 2,
       "version_minor": 0
      },
      "image/png": "[encoded data removed]",
      "text/html": [
       "\n",
       "            <div style=\"display: inline-block;\">\n",
       "                <div class=\"jupyter-widgets widget-label\" style=\"text-align: center;\">\n",
       "                    Figure\n",
       "                </div>\n",
       "                <img src='data:image/png;base64,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' width=250.0/>\n",
       "            </div>\n",
       "        "
      ],
      "text/plain": [
       "Canvas(toolbar=Toolbar(toolitems=[('Home', 'Reset original view', 'home', 'home'), ('Back', 'Back to previous …"
      ]
     },
     "metadata": {},
     "output_type": "display_data"
    }
   ],
   "source": [
    "fig, ax = plt.subplots(figsize=(2.5, 2)) \n",
    "ax.plot((data.index - data.index[0])/60, (data['ODO mg/L'].iloc[0] - data['ODO mg/L'])*48.6, 'k.', ms=1)\n",
    "\n",
    "m = 0.72 * 48.6\n",
    "ax.fill_betweenx(y=[0, m], x1=17, x2=23, facecolor='0.7')\n",
    "ax.fill_betweenx(y=[0, m], x1=40, x2=46, facecolor='0.7')\n",
    "ax.fill_betweenx(y=[0, m], x1=62, x2=68, facecolor='0.7')\n",
    "ax.fill_betweenx(y=[0, m], x1=84, x2=90, facecolor='0.7')\n",
    "ax.fill_betweenx(y=[0, m], x1=107, x2=113, facecolor='0.7')\n",
    "ax.fill_betweenx(y=[0, m], x1=129, x2=135, facecolor='0.7', label='Rest periods')\n",
    "\n",
    "leg = ax.legend(frameon=True, framealpha=1)\n",
    "leg.get_frame().set_edgecolor('k')\n",
    "leg.get_frame().set_linewidth(0.75)\n",
    "ax.set_xlabel('Time $t$ [min]')\n",
    "ax.set_ylabel('O$_2$ consumed [mg]')\n",
    "ax.set_xticks(np.arange(0, 160, 30))\n",
    "leg.get_frame().add_callback('square')\n",
    "fig.tight_layout()\n",
    "\n",
    "from thesis import MANUPATH\n",
    "fig.savefig(f'{MANUPATH}/graphs/annexes/timeseries_example.pdf')"
   ]
  },
  {
   "cell_type": "code",
   "execution_count": 5,
   "metadata": {},
   "outputs": [
    {
     "data": {
      "text/html": [
       "<div>\n",
       "<style scoped>\n",
       "    .dataframe tbody tr th:only-of-type {\n",
       "        vertical-align: middle;\n",
       "    }\n",
       "\n",
       "    .dataframe tbody tr th {\n",
       "        vertical-align: top;\n",
       "    }\n",
       "\n",
       "    .dataframe thead th {\n",
       "        text-align: right;\n",
       "    }\n",
       "</style>\n",
       "<table border=\"1\" class=\"dataframe\">\n",
       "  <thead>\n",
       "    <tr style=\"text-align: right;\">\n",
       "      <th></th>\n",
       "      <th>Date (MM/DD/YYYY)</th>\n",
       "      <th>Time (HH:mm:ss)</th>\n",
       "      <th>Time (Fract. Sec)</th>\n",
       "      <th>Site Name</th>\n",
       "      <th>ODO % sat</th>\n",
       "      <th>ODO % CB</th>\n",
       "      <th>ODO mg/L</th>\n",
       "      <th>Temp °C</th>\n",
       "      <th>Barometer mmHg</th>\n",
       "    </tr>\n",
       "  </thead>\n",
       "  <tbody>\n",
       "    <tr>\n",
       "      <th>800</th>\n",
       "      <td>6/27/2022</td>\n",
       "      <td>13:55:18</td>\n",
       "      <td>0.0</td>\n",
       "      <td>11ss270622</td>\n",
       "      <td>96.4</td>\n",
       "      <td>96.0</td>\n",
       "      <td>7.68</td>\n",
       "      <td>18.561</td>\n",
       "      <td>762.9</td>\n",
       "    </tr>\n",
       "    <tr>\n",
       "      <th>801</th>\n",
       "      <td>6/27/2022</td>\n",
       "      <td>13:55:19</td>\n",
       "      <td>0.0</td>\n",
       "      <td>11ss270622</td>\n",
       "      <td>96.4</td>\n",
       "      <td>96.0</td>\n",
       "      <td>7.68</td>\n",
       "      <td>18.560</td>\n",
       "      <td>762.9</td>\n",
       "    </tr>\n",
       "    <tr>\n",
       "      <th>802</th>\n",
       "      <td>6/27/2022</td>\n",
       "      <td>13:55:20</td>\n",
       "      <td>0.0</td>\n",
       "      <td>11ss270622</td>\n",
       "      <td>96.4</td>\n",
       "      <td>96.0</td>\n",
       "      <td>7.68</td>\n",
       "      <td>18.561</td>\n",
       "      <td>762.9</td>\n",
       "    </tr>\n",
       "    <tr>\n",
       "      <th>803</th>\n",
       "      <td>6/27/2022</td>\n",
       "      <td>13:55:21</td>\n",
       "      <td>0.0</td>\n",
       "      <td>11ss270622</td>\n",
       "      <td>96.4</td>\n",
       "      <td>96.0</td>\n",
       "      <td>7.68</td>\n",
       "      <td>18.561</td>\n",
       "      <td>762.9</td>\n",
       "    </tr>\n",
       "    <tr>\n",
       "      <th>804</th>\n",
       "      <td>6/27/2022</td>\n",
       "      <td>13:55:22</td>\n",
       "      <td>0.0</td>\n",
       "      <td>11ss270622</td>\n",
       "      <td>96.4</td>\n",
       "      <td>96.0</td>\n",
       "      <td>7.68</td>\n",
       "      <td>18.560</td>\n",
       "      <td>762.8</td>\n",
       "    </tr>\n",
       "    <tr>\n",
       "      <th>...</th>\n",
       "      <td>...</td>\n",
       "      <td>...</td>\n",
       "      <td>...</td>\n",
       "      <td>...</td>\n",
       "      <td>...</td>\n",
       "      <td>...</td>\n",
       "      <td>...</td>\n",
       "      <td>...</td>\n",
       "      <td>...</td>\n",
       "    </tr>\n",
       "    <tr>\n",
       "      <th>9683</th>\n",
       "      <td>6/27/2022</td>\n",
       "      <td>16:23:22</td>\n",
       "      <td>0.0</td>\n",
       "      <td>11ss270622</td>\n",
       "      <td>88.3</td>\n",
       "      <td>87.9</td>\n",
       "      <td>7.00</td>\n",
       "      <td>18.806</td>\n",
       "      <td>762.5</td>\n",
       "    </tr>\n",
       "    <tr>\n",
       "      <th>9684</th>\n",
       "      <td>6/27/2022</td>\n",
       "      <td>16:23:23</td>\n",
       "      <td>0.0</td>\n",
       "      <td>11ss270622</td>\n",
       "      <td>88.3</td>\n",
       "      <td>87.9</td>\n",
       "      <td>7.00</td>\n",
       "      <td>18.807</td>\n",
       "      <td>762.5</td>\n",
       "    </tr>\n",
       "    <tr>\n",
       "      <th>9685</th>\n",
       "      <td>6/27/2022</td>\n",
       "      <td>16:23:24</td>\n",
       "      <td>0.0</td>\n",
       "      <td>11ss270622</td>\n",
       "      <td>88.3</td>\n",
       "      <td>87.9</td>\n",
       "      <td>7.00</td>\n",
       "      <td>18.808</td>\n",
       "      <td>762.5</td>\n",
       "    </tr>\n",
       "    <tr>\n",
       "      <th>9686</th>\n",
       "      <td>6/27/2022</td>\n",
       "      <td>16:23:25</td>\n",
       "      <td>0.0</td>\n",
       "      <td>11ss270622</td>\n",
       "      <td>88.3</td>\n",
       "      <td>87.9</td>\n",
       "      <td>7.00</td>\n",
       "      <td>18.809</td>\n",
       "      <td>762.5</td>\n",
       "    </tr>\n",
       "    <tr>\n",
       "      <th>9687</th>\n",
       "      <td>6/27/2022</td>\n",
       "      <td>16:23:26</td>\n",
       "      <td>0.0</td>\n",
       "      <td>11ss270622</td>\n",
       "      <td>88.3</td>\n",
       "      <td>87.9</td>\n",
       "      <td>7.00</td>\n",
       "      <td>18.811</td>\n",
       "      <td>762.6</td>\n",
       "    </tr>\n",
       "  </tbody>\n",
       "</table>\n",
       "<p>8888 rows × 9 columns</p>\n",
       "</div>"
      ],
      "text/plain": [
       "     Date (MM/DD/YYYY) Time (HH:mm:ss)  Time (Fract. Sec)   Site Name  \\\n",
       "800          6/27/2022        13:55:18                0.0  11ss270622   \n",
       "801          6/27/2022        13:55:19                0.0  11ss270622   \n",
       "802          6/27/2022        13:55:20                0.0  11ss270622   \n",
       "803          6/27/2022        13:55:21                0.0  11ss270622   \n",
       "804          6/27/2022        13:55:22                0.0  11ss270622   \n",
       "...                ...             ...                ...         ...   \n",
       "9683         6/27/2022        16:23:22                0.0  11ss270622   \n",
       "9684         6/27/2022        16:23:23                0.0  11ss270622   \n",
       "9685         6/27/2022        16:23:24                0.0  11ss270622   \n",
       "9686         6/27/2022        16:23:25                0.0  11ss270622   \n",
       "9687         6/27/2022        16:23:26                0.0  11ss270622   \n",
       "\n",
       "      ODO % sat  ODO % CB  ODO mg/L  Temp °C  Barometer mmHg  \n",
       "800        96.4      96.0      7.68   18.561           762.9  \n",
       "801        96.4      96.0      7.68   18.560           762.9  \n",
       "802        96.4      96.0      7.68   18.561           762.9  \n",
       "803        96.4      96.0      7.68   18.561           762.9  \n",
       "804        96.4      96.0      7.68   18.560           762.8  \n",
       "...         ...       ...       ...      ...             ...  \n",
       "9683       88.3      87.9      7.00   18.806           762.5  \n",
       "9684       88.3      87.9      7.00   18.807           762.5  \n",
       "9685       88.3      87.9      7.00   18.808           762.5  \n",
       "9686       88.3      87.9      7.00   18.809           762.5  \n",
       "9687       88.3      87.9      7.00   18.811           762.6  \n",
       "\n",
       "[8888 rows x 9 columns]"
      ]
     },
     "execution_count": 5,
     "metadata": {},
     "output_type": "execute_result"
    }
   ],
   "source": [
    "data"
   ]
  },
  {
   "cell_type": "code",
   "execution_count": 6,
   "metadata": {},
   "outputs": [
    {
     "data": {
      "text/plain": [
       "Index(['Date (MM/DD/YYYY)', 'Time (HH:mm:ss)', 'Time (Fract. Sec)',\n",
       "       'Site Name', 'ODO % sat', 'ODO % CB', 'ODO mg/L', 'Temp °C',\n",
       "       'Barometer mmHg'],\n",
       "      dtype='object')"
      ]
     },
     "execution_count": 6,
     "metadata": {},
     "output_type": "execute_result"
    }
   ],
   "source": [
    "data.columns"
   ]
  },
  {
   "cell_type": "code",
   "execution_count": null,
   "metadata": {},
   "outputs": [],
   "source": []
  },
  {
   "cell_type": "code",
   "execution_count": null,
   "metadata": {},
   "outputs": [],
   "source": []
  }
 ],
 "metadata": {
  "kernelspec": {
   "display_name": "spyder",
   "language": "python",
   "name": "python3"
  },
  "language_info": {
   "codemirror_mode": {
    "name": "ipython",
    "version": 3
   },
   "file_extension": ".py",
   "mimetype": "text/x-python",
   "name": "python",
   "nbconvert_exporter": "python",
   "pygments_lexer": "ipython3",
   "version": "3.11.0"
  },
  "orig_nbformat": 4
 },
 "nbformat": 4,
 "nbformat_minor": 2
}
